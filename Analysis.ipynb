{
  "nbformat": 4,
  "nbformat_minor": 0,
  "metadata": {
    "colab": {
      "name": "Analysis.ipynb",
      "provenance": [],
      "authorship_tag": "ABX9TyNA6LjqxzoJVMhEr5QF78nk",
      "include_colab_link": true
    },
    "kernelspec": {
      "name": "python3",
      "display_name": "Python 3"
    }
  },
  "cells": [
    {
      "cell_type": "markdown",
      "metadata": {
        "id": "view-in-github",
        "colab_type": "text"
      },
      "source": [
        "<a href=\"https://colab.research.google.com/github/Inventrohyder/death-app/blob/main/Analysis.ipynb\" target=\"_parent\"><img src=\"https://colab.research.google.com/assets/colab-badge.svg\" alt=\"Open In Colab\"/></a>"
      ]
    },
    {
      "cell_type": "code",
      "metadata": {
        "id": "CbZe8xth0RVy"
      },
      "source": [
        "!pip install --upgrade -q gspread"
      ],
      "execution_count": 1,
      "outputs": []
    },
    {
      "cell_type": "code",
      "metadata": {
        "id": "q6dKd4p6zZWR"
      },
      "source": [
        "# Authenticate the Google user\n",
        "from google.colab import auth\n",
        "auth.authenticate_user()\n",
        "\n",
        "import gspread\n",
        "from oauth2client.client import GoogleCredentials\n",
        "\n",
        "gc = gspread.authorize(GoogleCredentials.get_application_default())"
      ],
      "execution_count": 2,
      "outputs": []
    },
    {
      "cell_type": "code",
      "metadata": {
        "id": "9aQa4Djq0YEv"
      },
      "source": [
        "# Access the Google Sheet\n",
        "worksheet = gc.open_by_key('1DFscs0MK6UhjHgnSXlmRWOSTpfLgb0KAYF5297V9NRg')\n",
        "worksheet = worksheet.worksheet('Form Responses')\n",
        "data = worksheet.get_all_values()"
      ],
      "execution_count": 3,
      "outputs": []
    },
    {
      "cell_type": "code",
      "metadata": {
        "colab": {
          "base_uri": "https://localhost:8080/",
          "height": 751
        },
        "id": "GHMEcIW00xNk",
        "outputId": "c8253436-6130-418e-9cd7-39d09ac0c11b"
      },
      "source": [
        "# Transform the Google Sheet data to a Pandas DataFrame\n",
        "import pandas as pd\n",
        "import numpy as np\n",
        "df = pd.DataFrame(data[1:], columns=data[0])\n",
        "\n",
        "# Clean the data\n",
        "df = df.replace('',np.nan)\n",
        "df = df.replace('N/A', np.nan)\n",
        "for column in df.columns:\n",
        "  df[column] = df[column].astype('float64', errors='ignore')\n",
        "df.head()"
      ],
      "execution_count": 5,
      "outputs": [
        {
          "output_type": "execute_result",
          "data": {
            "text/html": [
              "<div>\n",
              "<style scoped>\n",
              "    .dataframe tbody tr th:only-of-type {\n",
              "        vertical-align: middle;\n",
              "    }\n",
              "\n",
              "    .dataframe tbody tr th {\n",
              "        vertical-align: top;\n",
              "    }\n",
              "\n",
              "    .dataframe thead th {\n",
              "        text-align: right;\n",
              "    }\n",
              "</style>\n",
              "<table border=\"1\" class=\"dataframe\">\n",
              "  <thead>\n",
              "    <tr style=\"text-align: right;\">\n",
              "      <th></th>\n",
              "      <th>Timestamp</th>\n",
              "      <th>Agreement 同意</th>\n",
              "      <th>Have you prepared for your demise or when an accident occurs?</th>\n",
              "      <th>Have you prepared a will?</th>\n",
              "      <th>Do you update your will?</th>\n",
              "      <th>Do you have your convenient records of these ready? [ your assets]</th>\n",
              "      <th>Do you have your convenient records of these ready? [your bank accounts info]</th>\n",
              "      <th>Do you have your convenient records of these ready? [social media accounts]</th>\n",
              "      <th>What (kind of) message would you like to leave behind? For whom?</th>\n",
              "      <th>What else have you done in preparation for your demise or an emergency?</th>\n",
              "      <th>If you die right now, how well will things be taken care of? How much information do your loved ones and legal partners have to take care of things for you?</th>\n",
              "      <th>Have you lost a loved one recently?</th>\n",
              "      <th>When did you loose your loved one?</th>\n",
              "      <th>Was it an expected death?</th>\n",
              "      <th>Did they leave a will?</th>\n",
              "      <th>If so, was it easy to find?</th>\n",
              "      <th>Did they leave messages — for you and other loved ones?</th>\n",
              "      <th>If so, was it easy to have access?</th>\n",
              "      <th>Did they leave you relevant account information (social media, bank)?</th>\n",
              "      <th>What other information did you wish you have?</th>\n",
              "      <th>Age 年齡</th>\n",
              "      <th>What's your gender? 性別</th>\n",
              "      <th>Are you married? 你結婚了嗎？</th>\n",
              "      <th>How many kids do you have? 你有幾個小孩？</th>\n",
              "    </tr>\n",
              "  </thead>\n",
              "  <tbody>\n",
              "    <tr>\n",
              "      <th>0</th>\n",
              "      <td>11/30/2020 13:04:52</td>\n",
              "      <td>I agree 我同意</td>\n",
              "      <td>No</td>\n",
              "      <td>No</td>\n",
              "      <td>No</td>\n",
              "      <td>No</td>\n",
              "      <td>Yes</td>\n",
              "      <td>Yes</td>\n",
              "      <td>“Listen To Florence Welch”. ~ my sister</td>\n",
              "      <td>I think about it rarely. But when I do I never...</td>\n",
              "      <td>5.0</td>\n",
              "      <td>Yes</td>\n",
              "      <td>Less than a month</td>\n",
              "      <td>Yes</td>\n",
              "      <td>No</td>\n",
              "      <td>NaN</td>\n",
              "      <td>No</td>\n",
              "      <td>NaN</td>\n",
              "      <td>No</td>\n",
              "      <td>NaN</td>\n",
              "      <td>19.0</td>\n",
              "      <td>Female 女性</td>\n",
              "      <td>No 否</td>\n",
              "      <td>0.0</td>\n",
              "    </tr>\n",
              "    <tr>\n",
              "      <th>1</th>\n",
              "      <td>11/30/2020 13:10:00</td>\n",
              "      <td>I agree 我同意</td>\n",
              "      <td>No</td>\n",
              "      <td>No</td>\n",
              "      <td>No</td>\n",
              "      <td>No</td>\n",
              "      <td>No</td>\n",
              "      <td>No</td>\n",
              "      <td>Shit happens?\\nIf something does happen, I'd l...</td>\n",
              "      <td>Nothing. I have told my family my bank account...</td>\n",
              "      <td>2.0</td>\n",
              "      <td>Yes</td>\n",
              "      <td>Less than a month</td>\n",
              "      <td>Somewhat</td>\n",
              "      <td>No</td>\n",
              "      <td>NaN</td>\n",
              "      <td>No</td>\n",
              "      <td>NaN</td>\n",
              "      <td>NaN</td>\n",
              "      <td>My grandpa kept all my grandma's info. \\nMy gr...</td>\n",
              "      <td>23.0</td>\n",
              "      <td>Female 女性</td>\n",
              "      <td>No 否</td>\n",
              "      <td>0.0</td>\n",
              "    </tr>\n",
              "    <tr>\n",
              "      <th>2</th>\n",
              "      <td>11/30/2020 13:12:26</td>\n",
              "      <td>I agree 我同意</td>\n",
              "      <td>No</td>\n",
              "      <td>No</td>\n",
              "      <td>No</td>\n",
              "      <td>No</td>\n",
              "      <td>Yes</td>\n",
              "      <td>Yes</td>\n",
              "      <td>Don't cry, to my loved ones</td>\n",
              "      <td>NO</td>\n",
              "      <td>2.0</td>\n",
              "      <td>No</td>\n",
              "      <td>NaN</td>\n",
              "      <td>NaN</td>\n",
              "      <td>NaN</td>\n",
              "      <td>NaN</td>\n",
              "      <td>NaN</td>\n",
              "      <td>NaN</td>\n",
              "      <td>NaN</td>\n",
              "      <td>NaN</td>\n",
              "      <td>22.0</td>\n",
              "      <td>Female 女性</td>\n",
              "      <td>No 否</td>\n",
              "      <td>0.0</td>\n",
              "    </tr>\n",
              "    <tr>\n",
              "      <th>3</th>\n",
              "      <td>11/30/2020 13:35:34</td>\n",
              "      <td>I agree 我同意</td>\n",
              "      <td>No</td>\n",
              "      <td>No</td>\n",
              "      <td>No</td>\n",
              "      <td>Yes</td>\n",
              "      <td>Yes</td>\n",
              "      <td>No</td>\n",
              "      <td>NaN</td>\n",
              "      <td>NaN</td>\n",
              "      <td>5.0</td>\n",
              "      <td>Yes</td>\n",
              "      <td>1-6 months</td>\n",
              "      <td>Yes</td>\n",
              "      <td>No</td>\n",
              "      <td>NaN</td>\n",
              "      <td>No</td>\n",
              "      <td>NaN</td>\n",
              "      <td>Yes</td>\n",
              "      <td>NaN</td>\n",
              "      <td>23.0</td>\n",
              "      <td>Male 男性</td>\n",
              "      <td>No 否</td>\n",
              "      <td>0.0</td>\n",
              "    </tr>\n",
              "    <tr>\n",
              "      <th>4</th>\n",
              "      <td>11/30/2020 14:09:58</td>\n",
              "      <td>I agree 我同意</td>\n",
              "      <td>No</td>\n",
              "      <td>No</td>\n",
              "      <td>No</td>\n",
              "      <td>No</td>\n",
              "      <td>No</td>\n",
              "      <td>No</td>\n",
              "      <td>My laptop. Family, Close Friends</td>\n",
              "      <td>no</td>\n",
              "      <td>1.0</td>\n",
              "      <td>No</td>\n",
              "      <td>NaN</td>\n",
              "      <td>NaN</td>\n",
              "      <td>NaN</td>\n",
              "      <td>NaN</td>\n",
              "      <td>NaN</td>\n",
              "      <td>NaN</td>\n",
              "      <td>NaN</td>\n",
              "      <td>NaN</td>\n",
              "      <td>22.0</td>\n",
              "      <td>Female 女性</td>\n",
              "      <td>No 否</td>\n",
              "      <td>0.0</td>\n",
              "    </tr>\n",
              "  </tbody>\n",
              "</table>\n",
              "</div>"
            ],
            "text/plain": [
              "             Timestamp  ... How many kids do you have? 你有幾個小孩？\n",
              "0  11/30/2020 13:04:52  ...                                0.0\n",
              "1  11/30/2020 13:10:00  ...                                0.0\n",
              "2  11/30/2020 13:12:26  ...                                0.0\n",
              "3  11/30/2020 13:35:34  ...                                0.0\n",
              "4  11/30/2020 14:09:58  ...                                0.0\n",
              "\n",
              "[5 rows x 24 columns]"
            ]
          },
          "metadata": {
            "tags": []
          },
          "execution_count": 5
        }
      ]
    },
    {
      "cell_type": "code",
      "metadata": {
        "colab": {
          "base_uri": "https://localhost:8080/",
          "height": 188
        },
        "id": "BM4CkEbM02EM",
        "outputId": "4c7f56a4-fa45-4393-9ddb-6243953d6d53"
      },
      "source": [
        "# Create correlation matrix\n",
        "corr_matrix = df.corr()\n",
        "\n",
        "corr_matrix.style.background_gradient(cmap='Blues')"
      ],
      "execution_count": 6,
      "outputs": [
        {
          "output_type": "execute_result",
          "data": {
            "text/html": [
              "<style  type=\"text/css\" >\n",
              "#T_3d59fd92_3917_11eb_b3f0_0242ac1c0002row0_col0,#T_3d59fd92_3917_11eb_b3f0_0242ac1c0002row1_col1,#T_3d59fd92_3917_11eb_b3f0_0242ac1c0002row2_col2{\n",
              "            background-color:  #08306b;\n",
              "            color:  #f1f1f1;\n",
              "        }#T_3d59fd92_3917_11eb_b3f0_0242ac1c0002row0_col1,#T_3d59fd92_3917_11eb_b3f0_0242ac1c0002row0_col2,#T_3d59fd92_3917_11eb_b3f0_0242ac1c0002row1_col0{\n",
              "            background-color:  #f7fbff;\n",
              "            color:  #000000;\n",
              "        }#T_3d59fd92_3917_11eb_b3f0_0242ac1c0002row1_col2{\n",
              "            background-color:  #2a7ab9;\n",
              "            color:  #000000;\n",
              "        }#T_3d59fd92_3917_11eb_b3f0_0242ac1c0002row2_col0{\n",
              "            background-color:  #d7e6f5;\n",
              "            color:  #000000;\n",
              "        }#T_3d59fd92_3917_11eb_b3f0_0242ac1c0002row2_col1{\n",
              "            background-color:  #1e6db2;\n",
              "            color:  #f1f1f1;\n",
              "        }</style><table id=\"T_3d59fd92_3917_11eb_b3f0_0242ac1c0002\" ><thead>    <tr>        <th class=\"blank level0\" ></th>        <th class=\"col_heading level0 col0\" >If you die right now, how well will things be taken care of? How much information do your loved ones and legal partners have to take care of things for you?</th>        <th class=\"col_heading level0 col1\" >Age 年齡</th>        <th class=\"col_heading level0 col2\" >How many kids do you have? 你有幾個小孩？</th>    </tr></thead><tbody>\n",
              "                <tr>\n",
              "                        <th id=\"T_3d59fd92_3917_11eb_b3f0_0242ac1c0002level0_row0\" class=\"row_heading level0 row0\" >If you die right now, how well will things be taken care of? How much information do your loved ones and legal partners have to take care of things for you?</th>\n",
              "                        <td id=\"T_3d59fd92_3917_11eb_b3f0_0242ac1c0002row0_col0\" class=\"data row0 col0\" >1.000000</td>\n",
              "                        <td id=\"T_3d59fd92_3917_11eb_b3f0_0242ac1c0002row0_col1\" class=\"data row0 col1\" >0.032390</td>\n",
              "                        <td id=\"T_3d59fd92_3917_11eb_b3f0_0242ac1c0002row0_col2\" class=\"data row0 col2\" >0.189342</td>\n",
              "            </tr>\n",
              "            <tr>\n",
              "                        <th id=\"T_3d59fd92_3917_11eb_b3f0_0242ac1c0002level0_row1\" class=\"row_heading level0 row1\" >Age 年齡</th>\n",
              "                        <td id=\"T_3d59fd92_3917_11eb_b3f0_0242ac1c0002row1_col0\" class=\"data row1 col0\" >0.032390</td>\n",
              "                        <td id=\"T_3d59fd92_3917_11eb_b3f0_0242ac1c0002row1_col1\" class=\"data row1 col1\" >1.000000</td>\n",
              "                        <td id=\"T_3d59fd92_3917_11eb_b3f0_0242ac1c0002row1_col2\" class=\"data row1 col2\" >0.770493</td>\n",
              "            </tr>\n",
              "            <tr>\n",
              "                        <th id=\"T_3d59fd92_3917_11eb_b3f0_0242ac1c0002level0_row2\" class=\"row_heading level0 row2\" >How many kids do you have? 你有幾個小孩？</th>\n",
              "                        <td id=\"T_3d59fd92_3917_11eb_b3f0_0242ac1c0002row2_col0\" class=\"data row2 col0\" >0.189342</td>\n",
              "                        <td id=\"T_3d59fd92_3917_11eb_b3f0_0242ac1c0002row2_col1\" class=\"data row2 col1\" >0.770493</td>\n",
              "                        <td id=\"T_3d59fd92_3917_11eb_b3f0_0242ac1c0002row2_col2\" class=\"data row2 col2\" >1.000000</td>\n",
              "            </tr>\n",
              "    </tbody></table>"
            ],
            "text/plain": [
              "<pandas.io.formats.style.Styler at 0x7f80ae5ce400>"
            ]
          },
          "metadata": {
            "tags": []
          },
          "execution_count": 6
        }
      ]
    },
    {
      "cell_type": "markdown",
      "metadata": {
        "id": "FFiOX0OR23cW"
      },
      "source": [
        "It makes sense that the *older* a person is, the *more kids* they have. (The positive correlation between age and kids). \n",
        "\n",
        "Second, the *younger* a person is, the *less prepared* they are for their passing. \n",
        "\n",
        "Finally, people with fewer kids seem to have less prepared for their passing. However, that might also be because the people who are younger are also the people who have fewer kids."
      ]
    }
  ]
}